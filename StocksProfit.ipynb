{
 "cells": [
  {
   "cell_type": "code",
   "execution_count": 4,
   "id": "e477284e-672a-4804-807a-0b5515e549a9",
   "metadata": {},
   "outputs": [],
   "source": [
    "import yfinance as yf\n",
    "import pandas as pd\n",
    "import matplotlib.pyplot as plt"
   ]
  },
  {
   "cell_type": "code",
   "execution_count": 5,
   "id": "d10bdece-e3a2-42b5-8fb1-254311339759",
   "metadata": {},
   "outputs": [],
   "source": [
    "FINANCEIRO  = ['B3SA3.SA', 'BIDI4.SA', 'BPAC11.SA', 'BPAN4.SA']\n",
    "MATERIAIS   = ['CSNA3.SA', 'FESA3.SA', 'GGBR4.SA', 'SUZB3.SA', 'UNIP6.SA', 'USIM5.SA', 'VALE3.SA', 'PRIO3.SA', 'CSAN3.SA', 'KLBN11.SA', 'GOAU4.SA']\n",
    "SMALL_CAPS  = ['STBP3.SA', 'TASA4.SA', 'PTBL3.SA', 'ROMI3.SA']\n",
    "VAREJO      = ['MGLU3.SA', 'VVAR3.SA', 'AMAR3.SA']"
   ]
  },
  {
   "cell_type": "code",
   "execution_count": 6,
   "id": "7b6d8e34-9453-49df-b927-a8b4c6fb1225",
   "metadata": {},
   "outputs": [
    {
     "name": "stdout",
     "output_type": "stream",
     "text": [
      "[*********************100%***********************]  3 of 3 completed\n"
     ]
    }
   ],
   "source": [
    "data   = yf.download(VAREJO, start='2020-03-27')['Adj Close'].dropna()"
   ]
  },
  {
   "cell_type": "code",
   "execution_count": 7,
   "id": "3013c36b-d499-4bdb-bd4a-83ce3544a01d",
   "metadata": {},
   "outputs": [
    {
     "data": {
      "text/html": [
       "<div>\n",
       "<style scoped>\n",
       "    .dataframe tbody tr th:only-of-type {\n",
       "        vertical-align: middle;\n",
       "    }\n",
       "\n",
       "    .dataframe tbody tr th {\n",
       "        vertical-align: top;\n",
       "    }\n",
       "\n",
       "    .dataframe thead th {\n",
       "        text-align: right;\n",
       "    }\n",
       "</style>\n",
       "<table border=\"1\" class=\"dataframe\">\n",
       "  <thead>\n",
       "    <tr style=\"text-align: right;\">\n",
       "      <th></th>\n",
       "      <th>AMAR3.SA</th>\n",
       "      <th>MGLU3.SA</th>\n",
       "      <th>VVAR3.SA</th>\n",
       "    </tr>\n",
       "    <tr>\n",
       "      <th>Date</th>\n",
       "      <th></th>\n",
       "      <th></th>\n",
       "      <th></th>\n",
       "    </tr>\n",
       "  </thead>\n",
       "  <tbody>\n",
       "    <tr>\n",
       "      <th>2020-03-27</th>\n",
       "      <td>5.75</td>\n",
       "      <td>9.510635</td>\n",
       "      <td>5.70</td>\n",
       "    </tr>\n",
       "    <tr>\n",
       "      <th>2020-03-30</th>\n",
       "      <td>5.10</td>\n",
       "      <td>10.144677</td>\n",
       "      <td>5.45</td>\n",
       "    </tr>\n",
       "    <tr>\n",
       "      <th>2020-03-31</th>\n",
       "      <td>4.60</td>\n",
       "      <td>9.508198</td>\n",
       "      <td>5.28</td>\n",
       "    </tr>\n",
       "    <tr>\n",
       "      <th>2020-04-01</th>\n",
       "      <td>4.09</td>\n",
       "      <td>9.139964</td>\n",
       "      <td>4.65</td>\n",
       "    </tr>\n",
       "    <tr>\n",
       "      <th>2020-04-02</th>\n",
       "      <td>3.80</td>\n",
       "      <td>8.752222</td>\n",
       "      <td>4.38</td>\n",
       "    </tr>\n",
       "    <tr>\n",
       "      <th>...</th>\n",
       "      <td>...</td>\n",
       "      <td>...</td>\n",
       "      <td>...</td>\n",
       "    </tr>\n",
       "    <tr>\n",
       "      <th>2021-08-30</th>\n",
       "      <td>6.59</td>\n",
       "      <td>18.879999</td>\n",
       "      <td>10.76</td>\n",
       "    </tr>\n",
       "    <tr>\n",
       "      <th>2021-08-31</th>\n",
       "      <td>6.65</td>\n",
       "      <td>18.240000</td>\n",
       "      <td>10.39</td>\n",
       "    </tr>\n",
       "    <tr>\n",
       "      <th>2021-09-01</th>\n",
       "      <td>6.37</td>\n",
       "      <td>18.680000</td>\n",
       "      <td>10.27</td>\n",
       "    </tr>\n",
       "    <tr>\n",
       "      <th>2021-09-02</th>\n",
       "      <td>6.15</td>\n",
       "      <td>18.010000</td>\n",
       "      <td>9.64</td>\n",
       "    </tr>\n",
       "    <tr>\n",
       "      <th>2021-09-03</th>\n",
       "      <td>6.19</td>\n",
       "      <td>18.900000</td>\n",
       "      <td>9.62</td>\n",
       "    </tr>\n",
       "  </tbody>\n",
       "</table>\n",
       "<p>356 rows × 3 columns</p>\n",
       "</div>"
      ],
      "text/plain": [
       "            AMAR3.SA   MGLU3.SA  VVAR3.SA\n",
       "Date                                     \n",
       "2020-03-27      5.75   9.510635      5.70\n",
       "2020-03-30      5.10  10.144677      5.45\n",
       "2020-03-31      4.60   9.508198      5.28\n",
       "2020-04-01      4.09   9.139964      4.65\n",
       "2020-04-02      3.80   8.752222      4.38\n",
       "...              ...        ...       ...\n",
       "2021-08-30      6.59  18.879999     10.76\n",
       "2021-08-31      6.65  18.240000     10.39\n",
       "2021-09-01      6.37  18.680000     10.27\n",
       "2021-09-02      6.15  18.010000      9.64\n",
       "2021-09-03      6.19  18.900000      9.62\n",
       "\n",
       "[356 rows x 3 columns]"
      ]
     },
     "execution_count": 7,
     "metadata": {},
     "output_type": "execute_result"
    }
   ],
   "source": [
    "data"
   ]
  },
  {
   "cell_type": "code",
   "execution_count": null,
   "id": "c85c78d0-ea3c-4369-8b13-3ff7cb950c96",
   "metadata": {},
   "outputs": [],
   "source": []
  }
 ],
 "metadata": {
  "kernelspec": {
   "display_name": "Python 3",
   "language": "python",
   "name": "python3"
  },
  "language_info": {
   "codemirror_mode": {
    "name": "ipython",
    "version": 3
   },
   "file_extension": ".py",
   "mimetype": "text/x-python",
   "name": "python",
   "nbconvert_exporter": "python",
   "pygments_lexer": "ipython3",
   "version": "3.8.8"
  }
 },
 "nbformat": 4,
 "nbformat_minor": 5
}
